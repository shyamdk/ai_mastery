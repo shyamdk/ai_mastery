{
  "nbformat": 4,
  "nbformat_minor": 0,
  "metadata": {
    "colab": {
      "provenance": [],
      "collapsed_sections": [
        "8iL0bla87kbd",
        "F0GOMREL71FS"
      ],
      "toc_visible": true,
      "authorship_tag": "ABX9TyOIxDY9Uh3EDqYDGP/OFzoa"
    },
    "kernelspec": {
      "name": "python3",
      "display_name": "Python 3"
    },
    "language_info": {
      "name": "python"
    }
  },
  "cells": [
    {
      "cell_type": "markdown",
      "source": [
        "Udemy - https://www.udemy.com/course/ai-engineering-complete-bootcamp-masterclass/?couponCode=KEEPLEARNING\n",
        "\n",
        "Ref Videos - Section 2"
      ],
      "metadata": {
        "id": "wJwgiAkipAxf"
      }
    },
    {
      "cell_type": "code",
      "source": [
        "from google.colab import auth\n",
        "auth.authenticate_user()\n",
        "\n",
        "# Clone your GitHub repository\n",
        "!git clone https://github.com/shyamdk/ai_mastery.git\n",
        "%cd ai_mastery\n",
        "\n",
        "!git config --global user.email \"shyamdk@gmail.com\"\n",
        "!git config --global user.name \"Shyam Krishnamurthy\"\n",
        "\n",
        "\n"
      ],
      "metadata": {
        "colab": {
          "base_uri": "https://localhost:8080/"
        },
        "id": "5vPE1nL8_wvn",
        "outputId": "ef26a486-9205-49b5-afb8-1a06d015bfdc"
      },
      "execution_count": null,
      "outputs": [
        {
          "output_type": "stream",
          "name": "stdout",
          "text": [
            "Cloning into 'ai_mastery'...\n",
            "remote: Enumerating objects: 3, done.\u001b[K\n",
            "remote: Counting objects: 100% (3/3), done.\u001b[K\n",
            "remote: Compressing objects: 100% (2/2), done.\u001b[K\n",
            "remote: Total 3 (delta 0), reused 0 (delta 0), pack-reused 0 (from 0)\u001b[K\n",
            "Receiving objects: 100% (3/3), done.\n",
            "/content/ai_mastery\n",
            "On branch main\n",
            "Your branch is up to date with 'origin/main'.\n",
            "\n",
            "nothing to commit, working tree clean\n",
            "fatal: could not read Username for 'https://github.com': No such device or address\n"
          ]
        }
      ]
    },
    {
      "cell_type": "markdown",
      "source": [
        "## Table of Contents\n",
        "1. [Array Creation](#array-creation)\n",
        "2. [Working on Arrays](#working=on-arrays)\n",
        "3. [Basic-opertations](basic-opertations)"
      ],
      "metadata": {
        "id": "ntwyFMyU8s3j"
      }
    },
    {
      "cell_type": "code",
      "source": [
        "import numpy as np"
      ],
      "metadata": {
        "id": "O9qDJM-QpWCv"
      },
      "execution_count": null,
      "outputs": []
    },
    {
      "cell_type": "markdown",
      "source": [
        "## Array creation\n",
        "<a id=\"array-creation\"></a>"
      ],
      "metadata": {
        "id": "8iL0bla87kbd"
      }
    },
    {
      "cell_type": "code",
      "source": [
        "\n",
        "\n",
        "\n",
        "#array from list\n",
        "a = np.array([1,2,3])\n",
        "print(a)\n",
        "\n",
        "\n",
        "#array of zeros\n",
        "b = np.zeros((2,3))\n",
        "print(b)\n",
        "\n",
        "\n",
        "#array of ones\n",
        "c = np.ones((2,3))\n",
        "print(c)\n",
        "\n",
        "#array of range\n",
        "d = np.arange(10,25,5)\n",
        "print(d)\n",
        "\n",
        "#array of evenly spaced values\n",
        "e = np.linspace(0,2,9)\n",
        "print(e)\n"
      ],
      "metadata": {
        "colab": {
          "base_uri": "https://localhost:8080/"
        },
        "id": "EM-KR72Wpa1t",
        "outputId": "d3cfb533-a4f1-4345-e6f2-e03f530022c2"
      },
      "execution_count": null,
      "outputs": [
        {
          "output_type": "stream",
          "name": "stdout",
          "text": [
            "[1 2 3]\n",
            "[[0. 0. 0.]\n",
            " [0. 0. 0.]]\n",
            "[[1. 1. 1.]\n",
            " [1. 1. 1.]]\n",
            "[10 15 20]\n",
            "[0.   0.25 0.5  0.75 1.   1.25 1.5  1.75 2.  ]\n"
          ]
        }
      ]
    },
    {
      "cell_type": "markdown",
      "source": [
        "## Working on arrays\n",
        "<a id=\"working=on-arrays\"></a>"
      ],
      "metadata": {
        "id": "F0GOMREL71FS"
      }
    },
    {
      "cell_type": "code",
      "source": [
        "#working on arrays\n",
        "\n",
        "#reshape\n",
        "arr = np.array([1,2,3,4,5,6])\n",
        "reshaped = arr.reshape(2, 3 )\n",
        "print(reshaped)"
      ],
      "metadata": {
        "colab": {
          "base_uri": "https://localhost:8080/"
        },
        "id": "DvXo0Ig7qxTv",
        "outputId": "463dd885-f164-4d8d-9f58-88ef00de8c8a"
      },
      "execution_count": null,
      "outputs": [
        {
          "output_type": "stream",
          "name": "stdout",
          "text": [
            "[[1 2 3]\n",
            " [4 5 6]]\n"
          ]
        }
      ]
    },
    {
      "cell_type": "code",
      "source": [
        "#adding dimension\n",
        "arr = np.array([1,2,3,4,5,6])\n",
        "reshaped_r = arr[np.newaxis, :]\n",
        "reshaped_c = arr[:, np.newaxis]\n",
        "print(reshaped_r)\n",
        "print(reshaped_c)"
      ],
      "metadata": {
        "colab": {
          "base_uri": "https://localhost:8080/"
        },
        "id": "aWJPDhabrM6c",
        "outputId": "a98c8500-3875-4c46-8a42-790cbe57e8ce"
      },
      "execution_count": null,
      "outputs": [
        {
          "output_type": "stream",
          "name": "stdout",
          "text": [
            "[[1 2 3 4 5 6]]\n",
            "[[1]\n",
            " [2]\n",
            " [3]\n",
            " [4]\n",
            " [5]\n",
            " [6]]\n"
          ]
        }
      ]
    },
    {
      "cell_type": "markdown",
      "source": [
        "## Basic operations\n",
        "<a id=\"basic-opertations\"></a>"
      ],
      "metadata": {
        "id": "WaTn9Xu69N8v"
      }
    },
    {
      "cell_type": "code",
      "source": [
        "#operations on arrays\n",
        "a = np.arange (1, 6)#a = np.array([1,2,3,4]) #\n",
        "b = np.arange( 6, 11)#b = np.array([1,2,1,3]) #\n",
        "print(a)\n",
        "print(b)\n",
        "print(a + b)\n",
        "print(a - b)\n",
        "print(a * b)\n",
        "print(a / b)\n",
        "\n",
        "#mathematical operations\n",
        "arr = np.array([21, 34, 56])\n",
        "print(np.sqrt(arr))\n",
        "print(np.mean(arr))\n",
        "print(np.sum(arr))"
      ],
      "metadata": {
        "colab": {
          "base_uri": "https://localhost:8080/"
        },
        "id": "iudTqdL5rkEX",
        "outputId": "483d5d0b-0ec1-4f5b-e24e-ed3e4f8f5199"
      },
      "execution_count": null,
      "outputs": [
        {
          "output_type": "stream",
          "name": "stdout",
          "text": [
            "[1 2 3 4 5]\n",
            "[ 6  7  8  9 10]\n",
            "[ 7  9 11 13 15]\n",
            "[-5 -5 -5 -5 -5]\n",
            "[ 6 14 24 36 50]\n",
            "[0.16666667 0.28571429 0.375      0.44444444 0.5       ]\n",
            "[4.58257569 5.83095189 7.48331477]\n",
            "37.0\n",
            "111\n"
          ]
        }
      ]
    },
    {
      "cell_type": "code",
      "source": [
        "#array manupilation\n",
        "#indexing and slicing\n",
        "\n",
        "arr = np.array([10, 20, 30, 40, 50, 60])\n",
        "#indexing\n",
        "print(arr[-1])\n",
        "print(arr[1])\n",
        "#slicing\n",
        "print(arr[:3]) #first 3\n",
        "print(arr[3:]) #last three\n",
        "print(arr[1:4]) #index 1 to 3\n",
        "\n"
      ],
      "metadata": {
        "colab": {
          "base_uri": "https://localhost:8080/"
        },
        "id": "jrtjuFeX33JH",
        "outputId": "39880ff9-70bf-4c0e-e6b2-924fc87b2cd5"
      },
      "execution_count": null,
      "outputs": [
        {
          "output_type": "stream",
          "name": "stdout",
          "text": [
            "60\n",
            "20\n",
            "[10 20 30]\n",
            "[40 50 60]\n",
            "[20 30 40]\n"
          ]
        }
      ]
    },
    {
      "cell_type": "code",
      "source": [
        "#create multi dimenstional arrage and perform mathematical operations\n",
        "\n"
      ],
      "metadata": {
        "id": "tKkzWVhm57ai"
      },
      "execution_count": null,
      "outputs": []
    },
    {
      "cell_type": "code",
      "source": [],
      "metadata": {
        "id": "syWedbct5Kq_"
      },
      "execution_count": null,
      "outputs": []
    },
    {
      "cell_type": "code",
      "source": [
        "#After making changes to your notebook, use the following commands to push updates to GitHub:\n",
        "!git add .\n",
        "!git commit -m \"Updated notebook\"\n",
        "!git push origin main  # Change 'main' to 'master' if needed"
      ],
      "metadata": {
        "colab": {
          "base_uri": "https://localhost:8080/"
        },
        "id": "WhP4Ajx4APLl",
        "outputId": "b4060be0-2e94-468d-c44a-91d9797ae14f"
      },
      "execution_count": 1,
      "outputs": [
        {
          "output_type": "stream",
          "name": "stdout",
          "text": [
            "fatal: not a git repository (or any of the parent directories): .git\n",
            "fatal: not a git repository (or any of the parent directories): .git\n",
            "fatal: not a git repository (or any of the parent directories): .git\n"
          ]
        }
      ]
    }
  ]
}